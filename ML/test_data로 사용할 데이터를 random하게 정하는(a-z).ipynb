{
 "cells": [
  {
   "cell_type": "code",
   "execution_count": 9,
   "metadata": {},
   "outputs": [],
   "source": [
    "import os\n",
    "path=\"test_data/asl\"\n",
    "file_list=os.listdir(path)\n",
    "\n",
    "file_list.sort()"
   ]
  },
  {
   "cell_type": "code",
   "execution_count": 10,
   "metadata": {},
   "outputs": [
    {
     "data": {
      "text/plain": [
       "['a',\n",
       " 'b',\n",
       " 'c',\n",
       " 'd',\n",
       " 'e',\n",
       " 'f',\n",
       " 'g',\n",
       " 'h',\n",
       " 'i',\n",
       " 'j',\n",
       " 'k',\n",
       " 'l',\n",
       " 'm',\n",
       " 'n',\n",
       " 'o',\n",
       " 'p',\n",
       " 'q',\n",
       " 'r',\n",
       " 's',\n",
       " 't',\n",
       " 'u',\n",
       " 'v',\n",
       " 'w',\n",
       " 'x',\n",
       " 'y',\n",
       " 'z']"
      ]
     },
     "execution_count": 10,
     "metadata": {},
     "output_type": "execute_result"
    }
   ],
   "source": [
    "file_list"
   ]
  },
  {
   "cell_type": "code",
   "execution_count": 11,
   "metadata": {},
   "outputs": [
    {
     "name": "stdout",
     "output_type": "stream",
     "text": [
      "a data의 개수: 700\n",
      "b data의 개수: 700\n",
      "c data의 개수: 700\n",
      "d data의 개수: 700\n",
      "e data의 개수: 700\n",
      "f data의 개수: 700\n",
      "g data의 개수: 700\n",
      "h data의 개수: 700\n",
      "i data의 개수: 700\n",
      "j data의 개수: 700\n",
      "k data의 개수: 700\n",
      "l data의 개수: 700\n",
      "m data의 개수: 700\n",
      "n data의 개수: 700\n",
      "o data의 개수: 700\n",
      "p data의 개수: 700\n",
      "q data의 개수: 700\n",
      "r data의 개수: 700\n",
      "s data의 개수: 700\n",
      "t data의 개수: 650\n",
      "u data의 개수: 700\n",
      "v data의 개수: 700\n",
      "w data의 개수: 700\n",
      "x data의 개수: 700\n",
      "y data의 개수: 700\n",
      "z data의 개수: 700\n"
     ]
    }
   ],
   "source": [
    "for i in range(len(file_list)):\n",
    "    num=os.listdir(path+\"/\"+str(file_list[i]))\n",
    "    print(str(file_list[i])+\" data의 개수: \"+str(len(num)))"
   ]
  },
  {
   "cell_type": "code",
   "execution_count": 34,
   "metadata": {},
   "outputs": [],
   "source": [
    "###이 단락 실행시키면 안돼!!!!!!!!!!!!..\n",
    "import random\n",
    "import shutil\n",
    "for i in range(len(file_list)):\n",
    "    num=os.listdir(path+\"/\"+str(file_list[i]))\n",
    "    #print(num)\n",
    "    random_num=random.sample(num, 100)\n",
    "    real_test=\"test_data/Test_Data/\"+str(file_list[i])+\"/\"\n",
    "    for j in random_num:\n",
    "        shutil.move(path+\"/\"+str(file_list[i])+\"/\"+str(j),real_test+str(j))\n",
    "    #print(random_num)"
   ]
  },
  {
   "cell_type": "markdown",
   "metadata": {},
   "source": [
    "## test dataset이 100개로 잘 옮겨졌는지 확인"
   ]
  },
  {
   "cell_type": "code",
   "execution_count": 35,
   "metadata": {},
   "outputs": [
    {
     "data": {
      "text/plain": [
       "36"
      ]
     },
     "execution_count": 35,
     "metadata": {},
     "output_type": "execute_result"
    }
   ],
   "source": [
    "real_test_=\"test_data/Test_Data/\"\n",
    "real_test_path=os.listdir(real_test_)\n",
    "real_test_path.sort()\n",
    "\n",
    "len(real_test_path)"
   ]
  },
  {
   "cell_type": "code",
   "execution_count": 36,
   "metadata": {},
   "outputs": [
    {
     "name": "stdout",
     "output_type": "stream",
     "text": [
      "0 data의 개수: 100\n",
      "1 data의 개수: 100\n",
      "2 data의 개수: 100\n",
      "3 data의 개수: 100\n",
      "4 data의 개수: 100\n",
      "5 data의 개수: 100\n",
      "6 data의 개수: 100\n",
      "7 data의 개수: 100\n",
      "8 data의 개수: 100\n",
      "9 data의 개수: 100\n"
     ]
    }
   ],
   "source": [
    "for i in range(0,10):\n",
    "    num=os.listdir(real_test_+\"/\"+str(i))\n",
    "    print(str(i)+\" data의 개수: \"+str(len(num)))"
   ]
  },
  {
   "cell_type": "code",
   "execution_count": 37,
   "metadata": {},
   "outputs": [
    {
     "name": "stdout",
     "output_type": "stream",
     "text": [
      "a data의 개수: 100\n",
      "b data의 개수: 100\n",
      "c data의 개수: 100\n",
      "d data의 개수: 100\n",
      "e data의 개수: 100\n",
      "f data의 개수: 100\n",
      "g data의 개수: 100\n",
      "h data의 개수: 100\n",
      "i data의 개수: 100\n",
      "j data의 개수: 100\n",
      "k data의 개수: 100\n",
      "l data의 개수: 100\n",
      "m data의 개수: 100\n",
      "n data의 개수: 100\n",
      "o data의 개수: 100\n",
      "p data의 개수: 100\n",
      "q data의 개수: 100\n",
      "r data의 개수: 100\n",
      "s data의 개수: 100\n",
      "t data의 개수: 100\n",
      "u data의 개수: 100\n",
      "v data의 개수: 100\n",
      "w data의 개수: 100\n",
      "x data의 개수: 100\n",
      "y data의 개수: 100\n",
      "z data의 개수: 100\n"
     ]
    }
   ],
   "source": [
    "for i in range(len(file_list)):\n",
    "\n",
    "    num=os.listdir(real_test_+\"/\"+str(file_list[i]))\n",
    "    print(str(file_list[i])+\" data의 개수: \"+str(len(num)))"
   ]
  },
  {
   "cell_type": "code",
   "execution_count": null,
   "metadata": {},
   "outputs": [],
   "source": []
  }
 ],
 "metadata": {
  "kernelspec": {
   "display_name": "Python 3",
   "language": "python",
   "name": "python3"
  },
  "language_info": {
   "codemirror_mode": {
    "name": "ipython",
    "version": 3
   },
   "file_extension": ".py",
   "mimetype": "text/x-python",
   "name": "python",
   "nbconvert_exporter": "python",
   "pygments_lexer": "ipython3",
   "version": "3.7.3"
  }
 },
 "nbformat": 4,
 "nbformat_minor": 2
}
